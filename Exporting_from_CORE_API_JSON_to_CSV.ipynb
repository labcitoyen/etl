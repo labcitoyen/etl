{
  "nbformat": 4,
  "nbformat_minor": 0,
  "metadata": {
    "colab": {
      "name": "Exporting from CORE API JSON to CSV.ipynb",
      "provenance": [],
      "collapsed_sections": [],
      "authorship_tag": "ABX9TyN1V30uLLw/XfmnV/HENyZG",
      "include_colab_link": true
    },
    "kernelspec": {
      "name": "python3",
      "display_name": "Python 3"
    },
    "language_info": {
      "name": "python"
    }
  },
  "cells": [
    {
      "cell_type": "markdown",
      "metadata": {
        "id": "view-in-github",
        "colab_type": "text"
      },
      "source": [
        "<a href=\"https://colab.research.google.com/github/labcitoyen/etl/blob/main/Exporting_from_CORE_API_JSON_to_CSV.ipynb\" target=\"_parent\"><img src=\"https://colab.research.google.com/assets/colab-badge.svg\" alt=\"Open In Colab\"/></a>"
      ]
    },
    {
      "cell_type": "code",
      "execution_count": 17,
      "metadata": {
        "id": "5n7qKnWHBodZ",
        "colab": {
          "base_uri": "https://localhost:8080/"
        },
        "outputId": "953e1341-b9a1-41b9-c271-a506fb4e8cc9"
      },
      "outputs": [
        {
          "output_type": "stream",
          "name": "stdout",
          "text": [
            "Drive already mounted at /content/drive; to attempt to forcibly remount, call drive.mount(\"/content/drive\", force_remount=True).\n"
          ]
        }
      ],
      "source": [
        "from google.colab import drive\n",
        "drive.mount('/content/drive')"
      ]
    },
    {
      "cell_type": "code",
      "source": [
        "import os\n",
        "import json\n",
        "\n",
        "from os.path import join, getsize\n",
        "import re\n",
        "CLEANR = re.compile('<.*?>') \n",
        "\n",
        "rows = []\n",
        "for root, dirs, files in os.walk(\"drive/MyDrive/lcaqs/query1/\"):\n",
        "  for name in files:\n",
        "    filename = join(root, name)\n",
        "    with open(filename) as source:\n",
        "      parsed = json.loads(source.read())\n",
        "      result = parsed['results'][0]\n",
        "      #print(result.keys())\n",
        "      \n",
        "      row = {\n",
        "        'id': result['id'],\n",
        "        'title': ''.join(filter(str.isprintable, re.sub(CLEANR, '', result['title']))),\n",
        "        'yearPublished': result['yearPublished'],\n",
        "        'downloadUrl': result['downloadUrl']\n",
        "      }\n",
        "      \n",
        "      rows.append(row)\n",
        "      # print('%s: %s (%s): %s' % row)\n",
        "\n",
        "      "
      ],
      "metadata": {
        "id": "4EdkCa3UvYGq"
      },
      "execution_count": 27,
      "outputs": []
    },
    {
      "cell_type": "code",
      "source": [
        "\n",
        "with open(\"drive/MyDrive/lcaqs/query1.csv\", 'w+') as output:\n",
        "  output.write(\"id, title, yearPublished, downloadUrl\\n\")\n",
        "  output.writelines(['%s, \"%s\", %s, %s\\n' % (r['id'], r['title'], r['yearPublished'], r['downloadUrl']) for r in rows])\n"
      ],
      "metadata": {
        "id": "EqRaD6St0lr7"
      },
      "execution_count": 29,
      "outputs": []
    }
  ]
}